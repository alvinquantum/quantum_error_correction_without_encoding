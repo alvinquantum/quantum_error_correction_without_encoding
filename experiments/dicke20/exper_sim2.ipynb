{
 "cells": [
  {
   "cell_type": "code",
   "execution_count": 1,
   "metadata": {},
   "outputs": [],
   "source": [
    "import json\n",
    "import importlib\n",
    "import os\n",
    "current_dir=os.getcwd()\n",
    "os.chdir(\"../../\")\n",
    "# print(os.getcwd())\n",
    "import dist_utilities as dist_ult\n",
    "# import noise_est_utilities as ne_ult\n",
    "importlib.reload(dist_ult)\n",
    "# importlib.reload(ne_ult)\n",
    "os.chdir(current_dir)\n",
    "import pickle\n",
    "from qiskit.result import Result\n",
    "from qiskit.visualization import plot_histogram, plot_distribution\n",
    "import matplotlib.pyplot as plt\n",
    "import numpy as np\n",
    "from copy import deepcopy\n",
    "from qiskit.result import QuasiDistribution"
   ]
  },
  {
   "cell_type": "code",
   "execution_count": null,
   "metadata": {},
   "outputs": [],
   "source": [
    "with open(\"ideal_counts_sim.json\", \"r\") as f:\n",
    "    ideal_counts=json.load(f)\n",
    "with open(\"noisy_counts_sim.json\", \"r\") as f:\n",
    "    noisy_counts=json.load(f)\n",
    "with open(\"noisy_noise_est_dist_sim.json\", \"r\") as f:\n",
    "    noisy_noise_est_dist=json.load(f)\n",
    "with open(\"ideal_noise_est_counts_sim.json\", \"r\") as f:\n",
    "    ideal_noise_est_counts=json.load(f)\n",
    "print(\"ideal: \", ideal_noise_est_counts)\n",
    "print(\"noise est dist: \", noisy_noise_est_dist)\n",
    "print(\"noisy counts: \", noisy_counts)\n",
    "print(\"ideal counts: \", ideal_counts)\n",
    "col_label=list(dict(ideal_noise_est_counts).keys())[0]\n",
    "# corrected_counts=ne_ult.get_corrected_counts_from_counts(noisy_counts, noisy_noise_est_dist, list(ideal_noise_est_counts.keys())[0])\n",
    "\n",
    "# print(corrected_counts)"
   ]
  },
  {
   "cell_type": "code",
   "execution_count": 33,
   "metadata": {},
   "outputs": [],
   "source": [
    "# plot_histogram([ideal_counts, noisy_counts, corrected_counts], number_to_keep=5, legend=[\"ideal counts\", \"noisy counts\", \"corrected counts\"], figsize=(20,20), filename=\"plot_sim.jpg\")\n"
   ]
  },
  {
   "cell_type": "code",
   "execution_count": null,
   "metadata": {},
   "outputs": [],
   "source": [
    "num_qubits=len(list(noisy_counts.items())[0][0])\n",
    "\n",
    "if 2**15<2**num_qubits:\n",
    "    num_keep=2**10#num_qubits#2**10\n",
    "else:\n",
    "    num_keep=2**num_qubits\n",
    "noisy_counts_orig=deepcopy(noisy_counts)\n",
    "print(\"num keep \", num_keep)\n",
    "noisy_noise_est_dist=dist_ult.convert_to_first_col(noisy_noise_est_dist, col_label)\n",
    "noisy_noise_est_dist=dist_ult.filter_counts(noisy_noise_est_dist, num_keep)\n",
    "noisy_counts=dist_ult.filter_counts(noisy_counts, num_keep)\n",
    "all_keys, noisy_noise_est_dist, noisy_counts=dist_ult.fill_counts_range(noisy_noise_est_dist, noisy_counts, num_keep, num_qubits)\n",
    "print(noisy_counts)\n",
    "print(noisy_noise_est_dist)\n",
    "\n",
    "noisy_noise_est_vec=sorted(list(noisy_noise_est_dist.items()), key=lambda x: int(x[0], 2))\n",
    "noisy_noise_est_vec=[elem[1] for elem in noisy_noise_est_vec]\n",
    "counts_vec=sorted(list(noisy_counts.items()), key=lambda x: int(x[0], 2))\n",
    "counts_vec=[elem[1] for elem in counts_vec]\n",
    "# print(len(noisy_noise_est_vec))\n",
    "# print(len(counts_vec))\n",
    "quasi_corrected_counts=dist_ult.get_quasi_corrected(noisy_noise_est_vec, counts_vec)\n",
    "quasi_corrected_counts=dist_ult.label_quasis(quasi_corrected_counts, all_keys)\n",
    "# print(quasi_corrected_counts)\n",
    "quasi_method=QuasiDistribution(quasi_corrected_counts)\n",
    "quasi_corrected_counts=quasi_method.nearest_probability_distribution().binary_probabilities(num_qubits)\n",
    "# print(quasi_corrected_counts)\n",
    "# quasi_corrected_counts={bin(idx)[2::].zfill(num_qubits):val for idx, val in enumerate(quasi_corrected_counts)}\n",
    "\n"
   ]
  },
  {
   "cell_type": "code",
   "execution_count": 35,
   "metadata": {},
   "outputs": [],
   "source": [
    "fig=plot_histogram([ideal_counts, noisy_counts_orig, quasi_corrected_counts], number_to_keep=15, #bar_labels=False,\n",
    "               legend=[\"ideal\", \"raw\", \"corrected\"], title=\"Dicke n=20, k=1 Simulation\", bar_labels=False)\n",
    "fig.savefig(\"plot_dicke20_1_counts_sim.jpg\", bbox_inches=\"tight\")"
   ]
  },
  {
   "cell_type": "code",
   "execution_count": 36,
   "metadata": {},
   "outputs": [],
   "source": [
    "fig=plot_distribution([ideal_counts, noisy_counts_orig, quasi_corrected_counts], number_to_keep=15, #bar_labels=False,\n",
    "                  legend=[\"ideal\", \"raw\", \"corrected\"], title=\"Dicke n=20, k=1 Simulation\", bar_labels=False) #figsize=(15,15))\n",
    "ax=fig.axes[0]\n",
    "ax.set_ylabel(\"Probability\")\n",
    "fig.tight_layout()\n",
    "fig.savefig(\"plot_dicke20_1_dist_sim.jpg\", bbox_inches=\"tight\")"
   ]
  }
 ],
 "metadata": {
  "kernelspec": {
   "display_name": "dist_error_corr",
   "language": "python",
   "name": "python3"
  },
  "language_info": {
   "codemirror_mode": {
    "name": "ipython",
    "version": 3
   },
   "file_extension": ".py",
   "mimetype": "text/x-python",
   "name": "python",
   "nbconvert_exporter": "python",
   "pygments_lexer": "ipython3",
   "version": "3.12.4"
  }
 },
 "nbformat": 4,
 "nbformat_minor": 2
}
