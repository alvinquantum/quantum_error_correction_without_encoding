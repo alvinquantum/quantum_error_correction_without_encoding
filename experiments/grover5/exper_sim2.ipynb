{
 "cells": [
  {
   "cell_type": "code",
   "execution_count": 1,
   "metadata": {},
   "outputs": [],
   "source": [
    "import json\n",
    "import importlib\n",
    "import os\n",
    "current_dir=os.getcwd()\n",
    "os.chdir(\"../../\")\n",
    "# print(os.getcwd())\n",
    "import dist_utilities as dist_ult\n",
    "# import noise_est_utilities as ne_ult\n",
    "importlib.reload(dist_ult)\n",
    "# importlib.reload(ne_ult)\n",
    "os.chdir(current_dir)\n",
    "import pickle\n",
    "from qiskit.result import Result\n",
    "from qiskit.visualization import plot_histogram, plot_distribution\n",
    "import matplotlib.pyplot as plt\n",
    "import numpy as np\n",
    "from copy import deepcopy\n",
    "from qiskit.result import QuasiDistribution"
   ]
  },
  {
   "cell_type": "code",
   "execution_count": 2,
   "metadata": {},
   "outputs": [
    {
     "name": "stdout",
     "output_type": "stream",
     "text": [
      "ideal:  {'11111': 200000}\n",
      "noise est dist:  {'11111': 0.13557, '10011': 0.02979, '01011': 0.036365, '00011': 0.017905, '11011': 0.05885, '10001': 0.01785, '11010': 0.03333, '10000': 0.01215, '11101': 0.059655, '10100': 0.01832, '00010': 0.011195, '01101': 0.032555, '11100': 0.03652, '00110': 0.01716, '10110': 0.031045, '00001': 0.011355, '01000': 0.01301, '01111': 0.058475, '10111': 0.05342, '11110': 0.06075, '10101': 0.02986, '00101': 0.017255, '01001': 0.01994, '00111': 0.027985, '01010': 0.02001, '11000': 0.020555, '11001': 0.03243, '10010': 0.017905, '00100': 0.011105, '01110': 0.03076, '01100': 0.019575, '00000': 0.00735}\n",
      "noisy counts:  {'11011': 7373, '01100': 5666, '01111': 7868, '00110': 5020, '11111': 19376, '01000': 5616, '11001': 6319, '00100': 4878, '00111': 5621, '11101': 7544, '10111': 6342, '00000': 4787, '00010': 4972, '01011': 6091, '00011': 5117, '11000': 6113, '01110': 5948, '11010': 6343, '00001': 4758, '10010': 5275, '01101': 5847, '11110': 7874, '10101': 5423, '11100': 6443, '10100': 5157, '00101': 4986, '10110': 5684, '10001': 5188, '01010': 5720, '10000': 5345, '10011': 5686, '01001': 5620}\n",
      "ideal counts:  {'11111': 199840, '01011': 4, '11011': 6, '00011': 6, '01000': 7, '11001': 7, '11110': 7, '11101': 11, '10011': 10, '01101': 6, '00111': 4, '00010': 5, '01010': 5, '01001': 5, '10100': 2, '00001': 7, '00000': 5, '11000': 5, '10000': 7, '00101': 5, '01110': 6, '10111': 6, '11010': 4, '10010': 4, '10101': 4, '00110': 5, '10001': 2, '01111': 6, '10110': 3, '11100': 2, '01100': 2, '00100': 2}\n"
     ]
    }
   ],
   "source": [
    "with open(\"ideal_counts_sim.json\", \"r\") as f:\n",
    "    ideal_counts=json.load(f)\n",
    "with open(\"noisy_counts_sim.json\", \"r\") as f:\n",
    "    noisy_counts=json.load(f)\n",
    "with open(\"noisy_noise_est_dist_sim.json\", \"r\") as f:\n",
    "    noisy_noise_est_dist=json.load(f)\n",
    "with open(\"ideal_noise_est_counts_sim.json\", \"r\") as f:\n",
    "    ideal_noise_est_counts=json.load(f)\n",
    "print(\"ideal: \", ideal_noise_est_counts)\n",
    "print(\"noise est dist: \", noisy_noise_est_dist)\n",
    "print(\"noisy counts: \", noisy_counts)\n",
    "print(\"ideal counts: \", ideal_counts)\n",
    "col_label=list(dict(ideal_noise_est_counts).keys())[0]\n",
    "# corrected_counts=ne_ult.get_corrected_counts_from_counts(noisy_counts, noisy_noise_est_dist, list(ideal_noise_est_counts.keys())[0])\n",
    "\n",
    "# print(corrected_counts)"
   ]
  },
  {
   "cell_type": "code",
   "execution_count": 3,
   "metadata": {},
   "outputs": [],
   "source": [
    "# plot_histogram([ideal_counts, noisy_counts, corrected_counts], number_to_keep=5, legend=[\"ideal counts\", \"noisy counts\", \"corrected counts\"], figsize=(20,20), filename=\"plot_sim.jpg\")\n"
   ]
  },
  {
   "cell_type": "code",
   "execution_count": 4,
   "metadata": {},
   "outputs": [
    {
     "name": "stdout",
     "output_type": "stream",
     "text": [
      "num keep  32\n",
      "max exist  31\n",
      "min exist  0\n",
      "size before  32\n",
      "{'00000': 4787, '00001': 4758, '00010': 4972, '00011': 5117, '00100': 4878, '00101': 4986, '00110': 5020, '00111': 5621, '01000': 5616, '01001': 5620, '01010': 5720, '01011': 6091, '01100': 5666, '01101': 5847, '01110': 5948, '01111': 7868, '10000': 5345, '10001': 5188, '10010': 5275, '10011': 5686, '10100': 5157, '10101': 5423, '10110': 5684, '10111': 6342, '11000': 6113, '11001': 6319, '11010': 6343, '11011': 7373, '11100': 6443, '11101': 7544, '11110': 7874, '11111': 19376}\n",
      "{'00000': 0.13557, '00001': 0.06075, '00010': 0.059655, '00011': 0.03652, '00100': 0.05885, '00101': 0.03333, '00110': 0.03243, '00111': 0.020555, '01000': 0.05342, '01001': 0.031045, '01010': 0.02986, '01011': 0.01832, '01100': 0.02979, '01101': 0.017905, '01110': 0.01785, '01111': 0.01215, '10000': 0.058475, '10001': 0.03076, '10010': 0.032555, '10011': 0.019575, '10100': 0.036365, '10101': 0.02001, '10110': 0.01994, '10111': 0.01301, '11000': 0.027985, '11001': 0.01716, '11010': 0.017255, '11011': 0.011105, '11100': 0.017905, '11101': 0.011195, '11110': 0.011355, '11111': 0.00735}\n",
      "32\n",
      "32\n"
     ]
    }
   ],
   "source": [
    "num_qubits=len(list(noisy_counts.items())[0][0])\n",
    "\n",
    "if 2**15<2**num_qubits:\n",
    "    num_keep=2**10#num_qubits#2**10\n",
    "else:\n",
    "    num_keep=2**num_qubits\n",
    "noisy_counts_orig=noisy_counts\n",
    "print(\"num keep \", num_keep)\n",
    "noisy_noise_est_dist=dist_ult.convert_to_first_col(noisy_noise_est_dist, col_label)\n",
    "noisy_noise_est_dist=dist_ult.filter_counts(noisy_noise_est_dist, num_keep)\n",
    "noisy_counts=dist_ult.filter_counts(noisy_counts, num_keep)\n",
    "all_keys, noisy_noise_est_dist, noisy_counts=dist_ult.fill_counts_range(noisy_noise_est_dist, noisy_counts, num_keep, num_qubits)\n",
    "print(noisy_counts)\n",
    "print(noisy_noise_est_dist)\n",
    "\n",
    "noisy_noise_est_vec=sorted(list(noisy_noise_est_dist.items()), key=lambda x: int(x[0], 2))\n",
    "noisy_noise_est_vec=[elem[1] for elem in noisy_noise_est_vec]\n",
    "counts_vec=sorted(list(noisy_counts.items()), key=lambda x: int(x[0], 2))\n",
    "counts_vec=[elem[1] for elem in counts_vec]\n",
    "# print(len(noisy_noise_est_vec))\n",
    "# print(len(counts_vec))\n",
    "quasi_corrected_counts=dist_ult.get_quasi_corrected(noisy_noise_est_vec, counts_vec)\n",
    "quasi_corrected_counts=dist_ult.label_quasis(quasi_corrected_counts, all_keys)\n",
    "# print(quasi_corrected_counts)\n",
    "quasi_method=QuasiDistribution(quasi_corrected_counts)\n",
    "quasi_corrected_counts=quasi_method.nearest_probability_distribution().binary_probabilities(num_qubits)\n",
    "# print(quasi_corrected_counts)\n",
    "# quasi_corrected_counts={bin(idx)[2::].zfill(num_qubits):val for idx, val in enumerate(quasi_corrected_counts)}\n",
    "\n"
   ]
  },
  {
   "cell_type": "code",
   "execution_count": 5,
   "metadata": {},
   "outputs": [],
   "source": [
    "fig=plot_histogram([ideal_counts, noisy_counts_orig, quasi_corrected_counts], number_to_keep=5, bar_labels=True,\n",
    "               legend=[\"ideal\", \"raw\", \"corrected\"], title=\"Grover Search 5 Qubits Simulation\")\n",
    "fig.savefig(\"plot_grover5_counts_sim.jpg\", bbox_inches=\"tight\")"
   ]
  },
  {
   "cell_type": "code",
   "execution_count": 6,
   "metadata": {},
   "outputs": [],
   "source": [
    "fig=plot_distribution([ideal_counts, noisy_counts_orig, quasi_corrected_counts], number_to_keep=5, bar_labels=True,\n",
    "                  legend=[\"ideal\", \"raw\", \"corrected\"], title=\"Grover Search 5 Qubits Simulation\") #figsize=(15,15))\n",
    "ax=fig.axes[0]\n",
    "ax.set_ylabel(\"Probability\")\n",
    "fig.tight_layout()\n",
    "fig.savefig(\"plot_grover5_dist_sim.jpg\", bbox_inches=\"tight\")"
   ]
  }
 ],
 "metadata": {
  "kernelspec": {
   "display_name": "QISKIT_LATEST",
   "language": "python",
   "name": "python3"
  },
  "language_info": {
   "codemirror_mode": {
    "name": "ipython",
    "version": 3
   },
   "file_extension": ".py",
   "mimetype": "text/x-python",
   "name": "python",
   "nbconvert_exporter": "python",
   "pygments_lexer": "ipython3",
   "version": "3.12.4"
  }
 },
 "nbformat": 4,
 "nbformat_minor": 2
}
