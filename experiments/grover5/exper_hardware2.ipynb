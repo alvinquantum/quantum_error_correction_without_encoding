{
 "cells": [
  {
   "cell_type": "code",
   "execution_count": 1,
   "metadata": {},
   "outputs": [],
   "source": [
    "import json\n",
    "import importlib\n",
    "import os\n",
    "current_dir=os.getcwd()\n",
    "os.chdir(\"../../\")\n",
    "# print(os.getcwd())\n",
    "import dist_utilities as dist_ult\n",
    "# import noise_est_utilities as ne_ult\n",
    "importlib.reload(dist_ult)\n",
    "os.chdir(current_dir)\n",
    "import pickle\n",
    "from qiskit.result import Result\n",
    "from qiskit.visualization import plot_histogram, plot_distribution\n",
    "import matplotlib.pyplot as plt\n",
    "from matplotlib.axes import Axes\n",
    "import numpy as np\n",
    "from copy import deepcopy\n",
    "from qiskit.result import QuasiDistribution"
   ]
  },
  {
   "cell_type": "code",
   "execution_count": 2,
   "metadata": {},
   "outputs": [
    {
     "name": "stdout",
     "output_type": "stream",
     "text": [
      "ideal:  {'10101': 200000}\n",
      "noise est dist:  {'00101': 0.087695, '00001': 0.025565, '10001': 0.041555, '10110': 0.02718, '11101': 0.08874, '10010': 0.009465, '00011': 0.01002, '11000': 0.01254, '10100': 0.07427, '10000': 0.021625, '11100': 0.041625, '10101': 0.15893, '11110': 0.01591, '00111': 0.02984, '10111': 0.052145, '11111': 0.029985, '01100': 0.02488, '00000': 0.01496, '10011': 0.015285, '11011': 0.00902, '01101': 0.04982, '00110': 0.01632, '00100': 0.043085, '11010': 0.00573, '11001': 0.023405, '01110': 0.009865, '01111': 0.018105, '01001': 0.015325, '01011': 0.00635, '00010': 0.00711, '01000': 0.009105, '01010': 0.004545}\n",
      "noisy counts:  {'11010': 6049, '11111': 17189, '00010': 5148, '10100': 5569, '01001': 5369, '10011': 6169, '11101': 7341, '01010': 5524, '00000': 5102, '01000': 5294, '01111': 6657, '10101': 5742, '10001': 5431, '11011': 7528, '00001': 5042, '00111': 5799, '11000': 5794, '01011': 5839, '10010': 5595, '01110': 5890, '11100': 6362, '11001': 6019, '01100': 5499, '10111': 7769, '10110': 6091, '11110': 7863, '10000': 5319, '01101': 5718, '00101': 5279, '00011': 5383, '00110': 5338, '00100': 5289}\n",
      "ideal counts:  {'10110': 2, '11111': 199839, '10001': 11, '01000': 9, '11000': 3, '10000': 6, '11110': 2, '00100': 8, '00000': 3, '00001': 4, '10100': 7, '01100': 9, '01101': 7, '01011': 5, '01010': 6, '10011': 6, '10010': 4, '01110': 5, '01111': 7, '00010': 4, '11010': 1, '11101': 3, '00111': 4, '11100': 3, '00101': 6, '00110': 7, '11011': 5, '00011': 4, '10111': 9, '11001': 4, '01001': 2, '10101': 5}\n"
     ]
    }
   ],
   "source": [
    "with open(\"ideal_counts_hardware.json\", \"r\") as f:\n",
    "    ideal_counts=json.load(f)\n",
    "with open(\"noisy_counts_hardware.json\", \"r\") as f:\n",
    "    noisy_counts=json.load(f)\n",
    "with open(\"noisy_noise_est_dist_hardware.json\", \"r\") as f:\n",
    "    noisy_noise_est_dist=json.load(f)\n",
    "with open(\"ideal_noise_est_counts_hardware.json\", \"r\") as f:\n",
    "    ideal_noise_est_counts=json.load(f)\n",
    "print(\"ideal: \", ideal_noise_est_counts)\n",
    "print(\"noise est dist: \", noisy_noise_est_dist)\n",
    "print(\"noisy counts: \", noisy_counts)\n",
    "print(\"ideal counts: \", ideal_counts)\n",
    "col_label=list(dict(ideal_noise_est_counts).keys())[0]\n",
    "# corrected_counts=ne_ult.get_corrected_counts_from_counts(noisy_counts, noisy_noise_est_dist, list(ideal_noise_est_counts.keys())[0])\n",
    "\n",
    "# print(corrected_counts)"
   ]
  },
  {
   "cell_type": "code",
   "execution_count": 3,
   "metadata": {},
   "outputs": [],
   "source": [
    "# plot_histogram([ideal_counts, noisy_counts, corrected_counts], number_to_keep=5, legend=[\"ideal counts\", \"noisy counts\", \"corrected counts\"], figsize=(20,20), filename=\"plot_sim.jpg\")\n"
   ]
  },
  {
   "cell_type": "code",
   "execution_count": 4,
   "metadata": {},
   "outputs": [
    {
     "name": "stdout",
     "output_type": "stream",
     "text": [
      "num keep  32\n",
      "max exist  31\n",
      "min exist  0\n",
      "size before  32\n",
      "32\n",
      "32\n"
     ]
    }
   ],
   "source": [
    "num_qubits=len(list(noisy_counts.items())[0][0])\n",
    "\n",
    "# if 2**10<2**num_qubits:\n",
    "num_keep=2**15#2**10#num_qubits#2**10\n",
    "if num_keep>2**num_qubits:\n",
    "    num_keep=2**num_qubits\n",
    "noisy_counts_orig=deepcopy(noisy_counts)\n",
    "print(\"num keep \", num_keep)\n",
    "noisy_noise_est_dist=dist_ult.convert_to_first_col(noisy_noise_est_dist, col_label)\n",
    "noisy_noise_est_dist=dist_ult.filter_counts(noisy_noise_est_dist, num_keep)\n",
    "noisy_counts=dist_ult.filter_counts(noisy_counts, num_keep)\n",
    "all_keys, noisy_noise_est_dist, noisy_counts=dist_ult.fill_counts_range(noisy_noise_est_dist, noisy_counts, num_keep, num_qubits)\n",
    "\n",
    "noisy_noise_est_vec=sorted(list(noisy_noise_est_dist.items()), key=lambda x: int(x[0], 2))\n",
    "noisy_noise_est_vec=[elem[1] for elem in noisy_noise_est_vec]\n",
    "counts_vec=sorted(list(noisy_counts.items()), key=lambda x: int(x[0], 2))\n",
    "counts_vec=[elem[1] for elem in counts_vec]\n",
    "# print(len(noisy_noise_est_vec))\n",
    "# print(len(counts_vec))\n",
    "quasi_corrected_counts=dist_ult.get_quasi_corrected(noisy_noise_est_vec, counts_vec)\n",
    "quasi_corrected_counts=dist_ult.label_quasis(quasi_corrected_counts, all_keys)\n",
    "quasi_method=QuasiDistribution(quasi_corrected_counts)\n",
    "quasi_corrected_counts=quasi_method.nearest_probability_distribution().binary_probabilities(num_qubits)"
   ]
  },
  {
   "cell_type": "code",
   "execution_count": 5,
   "metadata": {},
   "outputs": [],
   "source": [
    "fig=plot_histogram([ideal_counts, noisy_counts_orig, quasi_corrected_counts], number_to_keep=5, \n",
    "               legend=[\"ideal\", \"raw\", \"corrected\"], title=\"Grover Search 5 Qubits Quantum Hardware\")\n",
    "fig.savefig(\"plot_grover5_counts_hardware_ibm_marrakesh.jpg\", bbox_inches=\"tight\")\n"
   ]
  },
  {
   "cell_type": "code",
   "execution_count": 6,
   "metadata": {},
   "outputs": [],
   "source": [
    "fig=plot_distribution([ideal_counts, noisy_counts_orig, quasi_corrected_counts], number_to_keep=5, \n",
    "                  legend=[\"ideal\", \"raw\", \"corrected\"], title=\"Grover Search 5 Qubits Quantum Hardware\") #figsize=(15,15))\n",
    "ax=fig.axes[0]\n",
    "ax.set_ylabel(\"Probability\")\n",
    "fig.savefig(\"plot_grover5_dist_hardware_ibm_marrakesh.jpg\", bbox_inches=\"tight\")"
   ]
  },
  {
   "cell_type": "code",
   "execution_count": 7,
   "metadata": {},
   "outputs": [
    {
     "name": "stdout",
     "output_type": "stream",
     "text": [
      "0.7488414715665496\n",
      "0.10194198467363527\n",
      "{'10110': 2, '11111': 199839, '10001': 11, '01000': 9, '11000': 3, '10000': 6, '11110': 2, '00100': 8, '00000': 3, '00001': 4, '10100': 7, '01100': 9, '01101': 7, '01011': 5, '01010': 6, '10011': 6, '10010': 4, '01110': 5, '01111': 7, '00010': 4, '11010': 1, '11101': 3, '00111': 4, '11100': 3, '00101': 6, '00110': 7, '11011': 5, '00011': 4, '10111': 9, '11001': 4, '01001': 2, '10101': 5}\n",
      "{'10011': 242.244809913242, '11100': 386.477849583815, '10101': 909.317036273860, '01101': 3831.39076183990, '10110': 11720.1819072147, '01110': 12150.5463345860, '00111': 22604.2714308528, '11111': 148155.569869736}\n",
      "{'11010': 6049, '11111': 17189, '00010': 5148, '10100': 5569, '01001': 5369, '10011': 6169, '11101': 7341, '01010': 5524, '00000': 5102, '01000': 5294, '01111': 6657, '10101': 5742, '10001': 5431, '11011': 7528, '00001': 5042, '00111': 5799, '11000': 5794, '01011': 5839, '10010': 5595, '01110': 5890, '11100': 6362, '11001': 6019, '01100': 5499, '10111': 7769, '10110': 6091, '11110': 7863, '10000': 5319, '01101': 5718, '00101': 5279, '00011': 5383, '00110': 5338, '00100': 5289}\n"
     ]
    }
   ],
   "source": [
    "from qiskit.quantum_info import hellinger_fidelity\n",
    "print(hellinger_fidelity(ideal_counts, quasi_corrected_counts))\n",
    "print(hellinger_fidelity(ideal_counts, noisy_counts_orig))\n",
    "print(ideal_counts)\n",
    "print(quasi_corrected_counts)\n",
    "print(noisy_counts_orig)"
   ]
  }
 ],
 "metadata": {
  "kernelspec": {
   "display_name": "QISKIT_LATEST",
   "language": "python",
   "name": "python3"
  },
  "language_info": {
   "codemirror_mode": {
    "name": "ipython",
    "version": 3
   },
   "file_extension": ".py",
   "mimetype": "text/x-python",
   "name": "python",
   "nbconvert_exporter": "python",
   "pygments_lexer": "ipython3",
   "version": "3.12.4"
  }
 },
 "nbformat": 4,
 "nbformat_minor": 2
}
