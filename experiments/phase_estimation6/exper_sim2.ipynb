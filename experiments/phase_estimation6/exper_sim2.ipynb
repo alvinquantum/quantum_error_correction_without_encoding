{
 "cells": [
  {
   "cell_type": "code",
   "execution_count": 13,
   "metadata": {},
   "outputs": [],
   "source": [
    "import json\n",
    "import importlib\n",
    "import os\n",
    "current_dir=os.getcwd()\n",
    "os.chdir(\"../../\")\n",
    "# print(os.getcwd())\n",
    "import dist_utilities as dist_ult\n",
    "# import noise_est_utilities as ne_ult\n",
    "importlib.reload(dist_ult)\n",
    "# importlib.reload(ne_ult)\n",
    "os.chdir(current_dir)\n",
    "import pickle\n",
    "from qiskit.result import Result\n",
    "from qiskit.visualization import plot_histogram, plot_distribution\n",
    "import matplotlib.pyplot as plt\n",
    "import numpy as np\n",
    "from copy import deepcopy\n",
    "from qiskit.result import QuasiDistribution"
   ]
  },
  {
   "cell_type": "code",
   "execution_count": 14,
   "metadata": {},
   "outputs": [
    {
     "name": "stdout",
     "output_type": "stream",
     "text": [
      "ideal:  {'111000': 200000}\n",
      "noise est dist:  {'110000': 0.03029, '111000': 0.74971, '001101': 0.000145, '100100': 0.00049, '111100': 0.028085, '010000': 0.00494, '111001': 0.02647, '110101': 0.000415, '101011': 0.00052, '000010': 7.5e-05, '000011': 5e-06, '110100': 0.005005, '101100': 0.005075, '001110': 8.5e-05, '100101': 0.000115, '111011': 0.00472, '101000': 0.028165, '000101': 1e-05, '101110': 0.00049, '110010': 0.004845, '011000': 0.028445, '000001': 6e-05, '101010': 0.004745, '110110': 0.000535, '101111': 6e-05, '000110': 1.5e-05, '110001': 0.00486, '100011': 8.5e-05, '001100': 0.000425, '111101': 0.004875, '011010': 0.004645, '001111': 1.5e-05, '100110': 8e-05, '111010': 0.02712, '100010': 0.000495, '001011': 6e-05, '111110': 0.00479, '011001': 0.004715, '011100': 0.004645, '101001': 0.00489, '001000': 0.00301, '000100': 6e-05, '110011': 0.000505, '101101': 0.00041, '110111': 0.000125, '000000': 0.0004, '100000': 0.00515, '111111': 0.000465, '001010': 0.00042, '100001': 0.00041, '011111': 0.000125, '010010': 0.000595, '010001': 0.000565, '011011': 0.000425, '010100': 0.00044, '011101': 0.00046, '010011': 0.000125, '011110': 0.000475, '001001': 0.00038, '010101': 0.000105, '010110': 0.00011, '100111': 2.5e-05}\n",
      "noisy counts:  {'100011': 82, '001100': 85, '111101': 3512, '100001': 77, '001010': 81, '111111': 147616, '001101': 48, '111100': 3227, '100100': 139, '110001': 202, '000110': 138, '101111': 4648, '100010': 65, '001011': 157, '111110': 5273, '000000': 4658, '110111': 4273, '111000': 2330, '101011': 415, '110101': 528, '000010': 572, '101010': 196, '000001': 1121, '110110': 1225, '001000': 316, '101001': 135, '100000': 1196, '101100': 736, '110100': 997, '000011': 838, '001110': 66, '100101': 57, '111011': 3623, '101000': 846, '010000': 149, '000101': 171, '110010': 221, '101110': 1156, '100110': 102, '001111': 1149, '111010': 1483, '011111': 643, '000111': 855, '110000': 1836, '011011': 20, '111001': 509, '100111': 310, '000100': 429, '101101': 561, '110011': 348, '010111': 86, '011000': 34, '010100': 23, '001001': 98, '010101': 20, '011110': 34, '011001': 12, '010001': 75, '011100': 25, '011101': 35, '010110': 24, '010011': 61, '010010': 39, '011010': 14}\n",
      "ideal counts:  {'111111': 200000}\n"
     ]
    }
   ],
   "source": [
    "with open(\"ideal_counts_sim.json\", \"r\") as f:\n",
    "    ideal_counts=json.load(f)\n",
    "with open(\"noisy_counts_sim.json\", \"r\") as f:\n",
    "    noisy_counts=json.load(f)\n",
    "with open(\"noisy_noise_est_dist_sim.json\", \"r\") as f:\n",
    "    noisy_noise_est_dist=json.load(f)\n",
    "with open(\"ideal_noise_est_counts_sim.json\", \"r\") as f:\n",
    "    ideal_noise_est_counts=json.load(f)\n",
    "print(\"ideal: \", ideal_noise_est_counts)\n",
    "print(\"noise est dist: \", noisy_noise_est_dist)\n",
    "print(\"noisy counts: \", noisy_counts)\n",
    "print(\"ideal counts: \", ideal_counts)\n",
    "col_label=list(dict(ideal_noise_est_counts).keys())[0]\n",
    "# corrected_counts=ne_ult.get_corrected_counts_from_counts(noisy_counts, noisy_noise_est_dist, list(ideal_noise_est_counts.keys())[0])\n",
    "\n",
    "# print(corrected_counts)"
   ]
  },
  {
   "cell_type": "code",
   "execution_count": 15,
   "metadata": {},
   "outputs": [],
   "source": [
    "# plot_histogram([ideal_counts, noisy_counts, corrected_counts], number_to_keep=5, legend=[\"ideal counts\", \"noisy counts\", \"corrected counts\"], figsize=(20,20), filename=\"plot_sim.jpg\")\n"
   ]
  },
  {
   "cell_type": "code",
   "execution_count": 16,
   "metadata": {},
   "outputs": [
    {
     "name": "stdout",
     "output_type": "stream",
     "text": [
      "num keep  64\n",
      "max exist  63\n",
      "min exist  0\n",
      "size before  64\n",
      "{'000000': 4658, '000001': 1121, '000010': 572, '000011': 838, '000100': 429, '000101': 171, '000110': 138, '000111': 855, '001000': 316, '001001': 98, '001010': 81, '001011': 157, '001100': 85, '001101': 48, '001110': 66, '001111': 1149, '010000': 149, '010001': 75, '010010': 39, '010011': 61, '010100': 23, '010101': 20, '010110': 24, '010111': 86, '011000': 34, '011001': 12, '011010': 14, '011011': 20, '011100': 25, '011101': 35, '011110': 34, '011111': 643, '100000': 1196, '100001': 77, '100010': 65, '100011': 82, '100100': 139, '100101': 57, '100110': 102, '100111': 310, '101000': 846, '101001': 135, '101010': 196, '101011': 415, '101100': 736, '101101': 561, '101110': 1156, '101111': 4648, '110000': 1836, '110001': 202, '110010': 221, '110011': 348, '110100': 997, '110101': 528, '110110': 1225, '110111': 4273, '111000': 2330, '111001': 509, '111010': 1483, '111011': 3623, '111100': 3227, '111101': 3512, '111110': 5273, '111111': 147616}\n",
      "{'000000': 0.74971, '000001': 0.02647, '000010': 0.02712, '000011': 0.00472, '000100': 0.028085, '000101': 0.004875, '000110': 0.00479, '000111': 0.000465, '001000': 0.03029, '001001': 0.00486, '001010': 0.004845, '001011': 0.000505, '001100': 0.005005, '001101': 0.000415, '001110': 0.000535, '001111': 0.000125, '010000': 0.028165, '010001': 0.00489, '010010': 0.004745, '010011': 0.00052, '010100': 0.005075, '010101': 0.00041, '010110': 0.00049, '010111': 6e-05, '011000': 0.00515, '011001': 0.00041, '011010': 0.000495, '011011': 8.5e-05, '011100': 0.00049, '011101': 0.000115, '011110': 8e-05, '011111': 2.5e-05, '100000': 0.028445, '100001': 0.004715, '100010': 0.004645, '100011': 0.000425, '100100': 0.004645, '100101': 0.00046, '100110': 0.000475, '100111': 0.000125, '101000': 0.00494, '101001': 0.000565, '101010': 0.000595, '101011': 0.000125, '101100': 0.00044, '101101': 0.000105, '101110': 0.00011, '101111': 0, '110000': 0.00301, '110001': 0.00038, '110010': 0.00042, '110011': 6e-05, '110100': 0.000425, '110101': 0.000145, '110110': 8.5e-05, '110111': 1.5e-05, '111000': 0.0004, '111001': 6e-05, '111010': 7.5e-05, '111011': 5e-06, '111100': 6e-05, '111101': 1e-05, '111110': 1.5e-05, '111111': 0}\n",
      "64\n",
      "64\n"
     ]
    }
   ],
   "source": [
    "num_qubits=len(list(noisy_counts.items())[0][0])\n",
    "\n",
    "if 2**15<2**num_qubits:\n",
    "    num_keep=2**10#num_qubits#2**10\n",
    "else:\n",
    "    num_keep=2**num_qubits\n",
    "noisy_counts_orig=noisy_counts\n",
    "print(\"num keep \", num_keep)\n",
    "noisy_noise_est_dist=dist_ult.convert_to_first_col(noisy_noise_est_dist, col_label)\n",
    "noisy_noise_est_dist=dist_ult.filter_counts(noisy_noise_est_dist, num_keep)\n",
    "noisy_counts=dist_ult.filter_counts(noisy_counts, num_keep)\n",
    "all_keys, noisy_noise_est_dist, noisy_counts=dist_ult.fill_counts_range(noisy_noise_est_dist, noisy_counts, num_keep, num_qubits)\n",
    "print(noisy_counts)\n",
    "print(noisy_noise_est_dist)\n",
    "\n",
    "noisy_noise_est_vec=sorted(list(noisy_noise_est_dist.items()), key=lambda x: int(x[0], 2))\n",
    "noisy_noise_est_vec=[elem[1] for elem in noisy_noise_est_vec]\n",
    "counts_vec=sorted(list(noisy_counts.items()), key=lambda x: int(x[0], 2))\n",
    "counts_vec=[elem[1] for elem in counts_vec]\n",
    "# print(len(noisy_noise_est_vec))\n",
    "# print(len(counts_vec))\n",
    "quasi_corrected_counts=dist_ult.get_quasi_corrected(noisy_noise_est_vec, counts_vec)\n",
    "quasi_corrected_counts=dist_ult.label_quasis(quasi_corrected_counts, all_keys)\n",
    "# print(quasi_corrected_counts)\n",
    "quasi_method=QuasiDistribution(quasi_corrected_counts)\n",
    "quasi_corrected_counts=quasi_method.nearest_probability_distribution().binary_probabilities(num_qubits)\n",
    "# print(quasi_corrected_counts)\n",
    "# quasi_corrected_counts={bin(idx)[2::].zfill(num_qubits):val for idx, val in enumerate(quasi_corrected_counts)}\n",
    "\n"
   ]
  },
  {
   "cell_type": "code",
   "execution_count": 17,
   "metadata": {},
   "outputs": [],
   "source": [
    "fig=plot_histogram([ideal_counts, noisy_counts_orig, quasi_corrected_counts], number_to_keep=5, bar_labels=True,\n",
    "               legend=[\"ideal\", \"raw\", \"corrected\"], title=\"Quantum Phase Estimation 6 Qubits Simulation\")\n",
    "fig.savefig(\"plot_qpe6_counts_sim.jpg\", bbox_inches=\"tight\")"
   ]
  },
  {
   "cell_type": "code",
   "execution_count": 18,
   "metadata": {},
   "outputs": [],
   "source": [
    "fig=plot_distribution([ideal_counts, noisy_counts_orig, quasi_corrected_counts], number_to_keep=5, bar_labels=True,\n",
    "                  legend=[\"ideal\", \"raw\", \"corrected\"], title=\"Quantum Phase Estimation 6 Qubits Simulation\") #figsize=(15,15))\n",
    "ax=fig.axes[0]\n",
    "ax.set_ylabel(\"Probability\")\n",
    "fig.tight_layout()\n",
    "fig.savefig(\"plot_qpe6_dist_sim.jpg\", bbox_inches=\"tight\")"
   ]
  }
 ],
 "metadata": {
  "kernelspec": {
   "display_name": "QISKIT_LATEST",
   "language": "python",
   "name": "python3"
  },
  "language_info": {
   "codemirror_mode": {
    "name": "ipython",
    "version": 3
   },
   "file_extension": ".py",
   "mimetype": "text/x-python",
   "name": "python",
   "nbconvert_exporter": "python",
   "pygments_lexer": "ipython3",
   "version": "3.12.4"
  }
 },
 "nbformat": 4,
 "nbformat_minor": 2
}
